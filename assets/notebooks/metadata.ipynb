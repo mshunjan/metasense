{
 "cells": [
  {
   "cell_type": "code",
   "execution_count": 11,
   "metadata": {},
   "outputs": [],
   "source": [
    "# prep for interactive tables\n",
    "from itables import init_notebook_mode, show, options\n",
    "options.style = \"table-layout:auto;width:100%;margin:auto;caption-side:bottom\""
   ]
  },
  {
   "cell_type": "code",
   "execution_count": 12,
   "metadata": {
    "tags": [
     "parameters"
    ]
   },
   "outputs": [],
   "source": [
    "# prepare file inputs\n",
    "sv_file = \"../example_results/software_versions.yml\""
   ]
  },
  {
   "attachments": {},
   "cell_type": "markdown",
   "metadata": {},
   "source": [
    "# Software Versions\n",
    "Collected at run time from software output"
   ]
  },
  {
   "cell_type": "code",
   "execution_count": 15,
   "metadata": {},
   "outputs": [
    {
     "data": {
      "text/html": [
       "<style>.itables table td {\n",
       "    text-overflow: ellipsis;\n",
       "    overflow: hidden;\n",
       "}\n",
       "\n",
       ".itables table th {\n",
       "    text-overflow: ellipsis;\n",
       "    overflow: hidden;\n",
       "}\n",
       "\n",
       ".itables thead input {\n",
       "    width: 100%;\n",
       "    padding: 3px;\n",
       "    box-sizing: border-box;\n",
       "}\n",
       "\n",
       ".itables tfoot input {\n",
       "    width: 100%;\n",
       "    padding: 3px;\n",
       "    box-sizing: border-box;\n",
       "}\n",
       "</style>\n",
       "<div class=\"itables\">\n",
       "<table id=\"fbb0aeba-faac-4d2d-a193-2ebd3b4b9c02\" class=\"display nowrap\"style=\"table-layout:auto;width:100%;margin:auto;caption-side:bottom\"><thead>\n",
       "    <tr style=\"text-align: right;\">\n",
       "      \n",
       "      <th>Process Name</th>\n",
       "      <th>Software</th>\n",
       "      <th>Version</th>\n",
       "    </tr>\n",
       "  </thead><tbody><tr><td>Loading... (need <a href=https://mwouts.github.io/itables/troubleshooting.html>help</a>?)</td></tr></tbody></table>\n",
       "<link rel=\"stylesheet\" type=\"text/css\" href=\"https://cdn.datatables.net/1.13.1/css/jquery.dataTables.min.css\">\n",
       "<script type=\"module\">\n",
       "    // Import jquery and DataTable\n",
       "    import 'https://code.jquery.com/jquery-3.6.0.min.js';\n",
       "    import dt from 'https://cdn.datatables.net/1.12.1/js/jquery.dataTables.mjs';\n",
       "    dt($);\n",
       "\n",
       "    // Define the table data\n",
       "    const data = [[\"BRACKEN_BRACKEN\", \"bracken\", \"2.7\"], [\"BRACKEN_COMBINEBRACKENOUTPUTS\", \"combine_bracken_output\", \"2.7\"], [\"BRACKEN_FILTER\", \"krakentools\", \"1.2\"], [\"BRACKEN_FILTER\", \"python\", \"3.9.2\"], [\"BRACKEN_PLOT\", \"plot_bracken\", \"0.1\"], [\"CUSTOM_DUMPSOFTWAREVERSIONS\", \"python\", \"3.10.6\"], [\"CUSTOM_DUMPSOFTWAREVERSIONS\", \"yaml\", \"6.0\"], [\"KRAKEN2_KRAKEN2\", \"kraken2\", \"2.1.2\"], [\"KRAKEN2_KRAKEN2\", \"pigz\", \"2.6\"], [\"SAMPLESHEET_CHECK\", \"python\", \"3.8.3\"], [\"SAMPLESHEET_GENERATE\", \"python\", \"3.8.3\"], [\"Workflow\", \"Nextflow\", \"22.12.0-edge\"], [\"Workflow\", \"mshunjan/metasense\", \"0.1.2\"]];\n",
       "\n",
       "    // Define the dt_args\n",
       "    let dt_args = {\"dom\": \"ftir\", \"order\": []};\n",
       "    dt_args[\"data\"] = data;\n",
       "\n",
       "    $(document).ready(function () {\n",
       "        \n",
       "        $('#fbb0aeba-faac-4d2d-a193-2ebd3b4b9c02').DataTable(dt_args);\n",
       "    });\n",
       "</script>\n",
       "</div>\n"
      ],
      "text/plain": [
       "<IPython.core.display.HTML object>"
      ]
     },
     "metadata": {},
     "output_type": "display_data"
    }
   ],
   "source": [
    "import yaml\n",
    "from platform import python_version\n",
    "import pandas as pd\n",
    "\n",
    "with open(sv_file) as f:\n",
    "    versions = yaml.load( f, Loader=yaml.BaseLoader)\n",
    "\n",
    "software_dict = {\n",
    "    'Process Name': [],\n",
    "    'Software': [],\n",
    "    'Version': []\n",
    "}\n",
    "for process, process_values in versions.items():\n",
    "    for software, version in process_values.items():\n",
    "        software_dict['Process Name'].append(process)\n",
    "        software_dict['Software'].append(software)\n",
    "        software_dict['Version'].append(version)\n",
    "\n",
    "software_df = pd.DataFrame.from_dict(software_dict)\n",
    "show(software_df, dom='ftir')"
   ]
  }
 ],
 "metadata": {
  "kernelspec": {
   "display_name": "reports",
   "language": "python",
   "name": "python3"
  },
  "language_info": {
   "codemirror_mode": {
    "name": "ipython",
    "version": 3
   },
   "file_extension": ".py",
   "mimetype": "text/x-python",
   "name": "python",
   "nbconvert_exporter": "python",
   "pygments_lexer": "ipython3",
   "version": "3.11.0 | packaged by conda-forge | (main, Jan 14 2023, 12:27:40) [GCC 11.3.0]"
  },
  "orig_nbformat": 4,
  "vscode": {
   "interpreter": {
    "hash": "415fc2c69e6c86251f769b44051bab9e0587a4321cda7b512c8e3415c75e2680"
   }
  }
 },
 "nbformat": 4,
 "nbformat_minor": 2
}
