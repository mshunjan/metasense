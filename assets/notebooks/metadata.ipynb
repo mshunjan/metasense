{
 "cells": [
  {
   "cell_type": "code",
   "execution_count": null,
   "metadata": {},
   "outputs": [],
   "source": [
    "# prep for interactive tables\n",
    "from itables import init_notebook_mode, show, options\n",
    "options.style = \"table-layout:auto;width:100%;margin:auto;caption-side:bottom\""
   ]
  },
  {
   "cell_type": "code",
   "execution_count": null,
   "metadata": {
    "tags": [
     "parameters"
    ]
   },
   "outputs": [],
   "source": [
    "# prepare file inputs\n",
    "sv_file = \"../example_results/software_versions.yml\""
   ]
  },
  {
   "attachments": {},
   "cell_type": "markdown",
   "metadata": {},
   "source": [
    "# Software Versions\n",
    "Collected at run time from software output"
   ]
  },
  {
   "cell_type": "code",
   "execution_count": null,
   "metadata": {},
   "outputs": [],
   "source": [
    "import yaml\n",
    "from platform import python_version\n",
    "import pandas as pd\n",
    "\n",
    "with open(sv_file) as f:\n",
    "    versions = yaml.load( f, Loader=yaml.BaseLoader)\n",
    "\n",
    "software_dict = {\n",
    "    'Process Name': [],\n",
    "    'Software': [],\n",
    "    'Version': []\n",
    "}\n",
    "for process, process_values in versions.items():\n",
    "    for software, version in process_values.items():\n",
    "        software_dict['Process Name'].append(process)\n",
    "        software_dict['Software'].append(software)\n",
    "        software_dict['Version'].append(version)\n",
    "\n",
    "software_df = pd.DataFrame.from_dict(software_dict)\n",
    "show(software_df, dom='ftir')"
   ]
  }
 ],
 "metadata": {
  "kernelspec": {
   "display_name": "reports",
   "language": "python",
   "name": "python3"
  },
  "language_info": {
   "codemirror_mode": {
    "name": "ipython",
    "version": 3
   },
   "file_extension": ".py",
   "mimetype": "text/x-python",
   "name": "python",
   "nbconvert_exporter": "python",
   "pygments_lexer": "ipython3",
   "version": "3.11.0 | packaged by conda-forge | (main, Jan 14 2023, 12:27:40) [GCC 11.3.0]"
  },
  "orig_nbformat": 4,
  "vscode": {
   "interpreter": {
    "hash": "415fc2c69e6c86251f769b44051bab9e0587a4321cda7b512c8e3415c75e2680"
   }
  }
 },
 "nbformat": 4,
 "nbformat_minor": 2
}
