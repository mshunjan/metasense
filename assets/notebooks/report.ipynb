{
 "cells": [
  {
   "cell_type": "code",
   "execution_count": 2,
   "metadata": {},
   "outputs": [],
   "source": [
    "# prep for interactive tables\n",
    "from itables import init_notebook_mode, show, options\n",
    "options.style = \"table-layout:auto;width:100%;margin:auto;caption-side:bottom\""
   ]
  },
  {
   "cell_type": "code",
   "execution_count": 3,
   "metadata": {},
   "outputs": [],
   "source": [
    "from IPython.display import display, Markdown\n",
    "def makemd(md):\n",
    "    display(Markdown(md))"
   ]
  },
  {
   "cell_type": "code",
   "execution_count": 4,
   "metadata": {
    "tags": [
     "parameters"
    ]
   },
   "outputs": [],
   "source": [
    "# prepare inputs\n",
    "brac_file = \"../example_results/bracken_combined.tsv\""
   ]
  },
  {
   "cell_type": "code",
   "execution_count": 5,
   "metadata": {},
   "outputs": [
    {
     "data": {
      "text/markdown": [
       "\n",
       "        \n",
       "# Run Metadata \n",
       "        \n",
       "Looks like there was an issue with your inputs! See below for the error!\n",
       "        \n",
       "```sh\n",
       "        \n",
       " \n",
       "Loading database information... done.\n",
       "classify: malformed FASTQ file (exp. '@', saw \"TTAGGACCCGAAAGATGGTGAACTATGCCTGGGCAGGGCGAAGCCAGAGGAAAC\"), aborting\n",
       "\n",
       "        \n",
       "```\n",
       "        "
      ],
      "text/plain": [
       "<IPython.core.display.Markdown object>"
      ]
     },
     "metadata": {},
     "output_type": "display_data"
    }
   ],
   "source": [
    "from pathlib import Path\n",
    "import pandas as pd\n",
    "import plotly.express as px\n",
    "\n",
    "error = \"\"\" \n",
    "Loading database information... done.\n",
    "classify: malformed FASTQ file (exp. '@', saw \"TTAGGACCCGAAAGATGGTGAACTATGCCTGGGCAGGGCGAAGCCAGAGGAAAC\"), aborting\n",
    "\"\"\"\n",
    "\n",
    "def plot_bracken(df):\n",
    "    # Rename and melt columns\n",
    "    new_columns = {\"name\": \"Species\", \"variable\": \"Sample\", \"value\": \"Fraction Abundance\"}\n",
    "    new_df = df.melt(id_vars=\"name\").rename(columns=new_columns)\n",
    "\n",
    "    # Generate express chart\n",
    "    figx = px.bar(new_df, y=\"Sample\", x=\"Fraction Abundance\", color=\"Species\")\n",
    "\n",
    "    figx.update_layout(\n",
    "        yaxis_title=\"Sample\",\n",
    "        xaxis_title=\"Relative Abundance (%)\",\n",
    "        bargap=0,\n",
    "    )\n",
    "    \n",
    "    return figx\n",
    "\n",
    "def bracken_results(path):\n",
    "    if Path(path).exists():\n",
    "        df = pd.read_csv(path, sep='\\t')\n",
    "        df.drop(columns=[\"taxonomy_id\", \"taxonomy_lvl\"], inplace=True)\n",
    "        df = df.loc[:, ~df.columns.str.contains(\"_num\")]\n",
    "        df.columns = df.columns.str.split(r'(_frac)').str.get(0)\n",
    "\n",
    "        makemd(\"\"\"\n",
    "        \\n# Bracken \n",
    "        \\nBracken (Bayesian Reestimation of Abundance with KrakEN) is a highly accurate statistical method that computes the abundance of species in DNA sequences from a metagenomics sample.\n",
    "        \"\"\")\n",
    "        makemd(\"\"\"\n",
    "        \\n## Relative Abundance Plot\n",
    "        \\nAn interactive, relative taxonomic abundance plot of species across submitted samples. \n",
    "        \"\"\")\n",
    "        plot_bracken(df)\n",
    "\n",
    "        makemd(\"\"\"\n",
    "        \\n## Raw data\n",
    "        \\nRaw relative abundance results  \n",
    "        \"\"\")\n",
    "        if len(df) > 10 :\n",
    "            show(df, dom='lfrtip')\n",
    "        else:\n",
    "            show(df, dom='ftir')\n",
    "    else:\n",
    "        makemd(f\"\"\"\n",
    "        \\n# Run Metadata \n",
    "        \\nLooks like there was an issue with your inputs! See below for the error!\n",
    "        \\n```sh\n",
    "        \\n{error}\n",
    "        \\n```\n",
    "        \"\"\")\n",
    "\n",
    "bracken_results(brac_file)"
   ]
  }
 ],
 "metadata": {
  "kernelspec": {
   "display_name": "Python 3",
   "language": "python",
   "name": "python3"
  },
  "language_info": {
   "codemirror_mode": {
    "name": "ipython",
    "version": 3
   },
   "file_extension": ".py",
   "mimetype": "text/x-python",
   "name": "python",
   "nbconvert_exporter": "python",
   "pygments_lexer": "ipython3",
   "version": "3.11.0"
  },
  "orig_nbformat": 4,
  "vscode": {
   "interpreter": {
    "hash": "415fc2c69e6c86251f769b44051bab9e0587a4321cda7b512c8e3415c75e2680"
   }
  }
 },
 "nbformat": 4,
 "nbformat_minor": 2
}
