{
 "cells": [
  {
   "cell_type": "code",
   "execution_count": null,
   "metadata": {},
   "outputs": [],
   "source": [
    "# prep for interactive tables\n",
    "from itables import init_notebook_mode, show, options\n",
    "options.style = \"table-layout:auto;width:100%;margin:auto;caption-side:bottom\""
   ]
  },
  {
   "cell_type": "code",
   "execution_count": null,
   "metadata": {
    "tags": [
     "parameters"
    ]
   },
   "outputs": [],
   "source": [
    "# prepare file inputs\n",
    "brac_file = \"../example_results/bracken_combined.tsv\""
   ]
  },
  {
   "attachments": {},
   "cell_type": "markdown",
   "metadata": {},
   "source": [
    "# Bracken \n",
    "Bracken (Bayesian Reestimation of Abundance with KrakEN) is a highly accurate statistical method that computes the abundance of species in DNA sequences from a metagenomics sample.\n"
   ]
  },
  {
   "cell_type": "code",
   "execution_count": null,
   "metadata": {},
   "outputs": [],
   "source": [
    "import pandas as pd\n",
    "\n",
    "def bracken_results(path):\n",
    "    df = pd.read_csv(path, sep='\\t')\n",
    "    df.drop(columns=[\"taxonomy_id\", \"taxonomy_lvl\"], inplace=True)\n",
    "    df = df.loc[:, ~df.columns.str.contains(\"_num\")]\n",
    "    df.columns = df.columns.str.split(r'(_frac)').str.get(0)\n",
    "\n",
    "    return df\n",
    "\n",
    "bracken_df = bracken_results(brac_file)"
   ]
  },
  {
   "cell_type": "markdown",
   "metadata": {},
   "source": [
    "## Relative Abundance Plot\n",
    "An interactive, relative taxonomic abundance plot of species across submitted samples. \n"
   ]
  },
  {
   "cell_type": "code",
   "execution_count": null,
   "metadata": {},
   "outputs": [],
   "source": [
    "import plotly.express as px\n",
    "\n",
    "def plot_bracken(df):\n",
    "    # Rename and melt columns\n",
    "    new_columns = {\"name\": \"Species\", \"variable\": \"Sample\", \"value\": \"Fraction Abundance\"}\n",
    "    new_df = df.melt(id_vars=\"name\").rename(columns=new_columns)\n",
    "\n",
    "    # Generate express chart\n",
    "    figx = px.bar(new_df, y=\"Sample\", x=\"Fraction Abundance\", color=\"Species\")\n",
    "\n",
    "    figx.update_layout(\n",
    "        yaxis_title=\"Sample\",\n",
    "        xaxis_title=\"Relative Abundance (%)\",\n",
    "        bargap=0,\n",
    "    )\n",
    "    \n",
    "    return figx\n",
    "\n",
    "plot_bracken(bracken_df)"
   ]
  },
  {
   "attachments": {},
   "cell_type": "markdown",
   "metadata": {},
   "source": [
    "## Raw data\n",
    "Raw relative abundance results  "
   ]
  },
  {
   "cell_type": "code",
   "execution_count": null,
   "metadata": {},
   "outputs": [],
   "source": [
    "if len(bracken_df) > 10 :\n",
    "    show(bracken_df, dom='lfrtip')\n",
    "else:\n",
    "    show(bracken_df, dom='ftir')"
   ]
  }
 ],
 "metadata": {
  "kernelspec": {
   "display_name": "Python 3",
   "language": "python",
   "name": "python3"
  },
  "language_info": {
   "codemirror_mode": {
    "name": "ipython",
    "version": 3
   },
   "file_extension": ".py",
   "mimetype": "text/x-python",
   "name": "python",
   "nbconvert_exporter": "python",
   "pygments_lexer": "ipython3",
   "version": "3.11.0 | packaged by conda-forge | (main, Jan 14 2023, 12:27:40) [GCC 11.3.0]"
  },
  "orig_nbformat": 4,
  "vscode": {
   "interpreter": {
    "hash": "415fc2c69e6c86251f769b44051bab9e0587a4321cda7b512c8e3415c75e2680"
   }
  }
 },
 "nbformat": 4,
 "nbformat_minor": 2
}
