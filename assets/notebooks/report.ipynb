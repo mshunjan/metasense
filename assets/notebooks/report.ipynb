{
 "cells": [
  {
   "cell_type": "code",
   "execution_count": 6,
   "metadata": {},
   "outputs": [],
   "source": [
    "# prep for interactive tables\n",
    "from itables import init_notebook_mode, show, options\n",
    "options.style = \"table-layout:auto;width:100%;margin:auto;caption-side:bottom\""
   ]
  },
  {
   "cell_type": "code",
   "execution_count": 7,
   "metadata": {
    "tags": [
     "parameters"
    ]
   },
   "outputs": [],
   "source": [
    "# prepare file inputs\n",
    "brac_file = \"../example_results/bracken_combined.tsv\""
   ]
  },
  {
   "attachments": {},
   "cell_type": "markdown",
   "metadata": {},
   "source": [
    "# Bracken \n",
    "Bracken (Bayesian Reestimation of Abundance with KrakEN) is a highly accurate statistical method that computes the abundance of species in DNA sequences from a metagenomics sample.\n"
   ]
  },
  {
   "cell_type": "code",
   "execution_count": 8,
   "metadata": {},
   "outputs": [],
   "source": [
    "import pandas as pd\n",
    "\n",
    "def bracken_results(path):\n",
    "    df = pd.read_csv(path, sep='\\t')\n",
    "    df.drop(columns=[\"taxonomy_id\", \"taxonomy_lvl\"], inplace=True)\n",
    "    df = df.loc[:, ~df.columns.str.contains(\"_num\")]\n",
    "    df.columns = df.columns.str.split(r'(_frac)').str.get(0)\n",
    "\n",
    "    return df\n",
    "\n",
    "bracken_df = bracken_results(brac_file)"
   ]
  },
  {
   "cell_type": "markdown",
   "metadata": {},
   "source": [
    "## Relative Abundance Plot\n",
    "An interactive, relative taxonomic abundance plot of species across submitted samples. \n"
   ]
  },
  {
   "cell_type": "code",
   "execution_count": 13,
   "metadata": {},
   "outputs": [
    {
     "data": {
      "application/vnd.plotly.v1+json": {
       "config": {
        "plotlyServerURL": "https://plot.ly"
       },
       "data": [
        {
         "alignmentgroup": "True",
         "hovertemplate": "Species=Severe acute respiratory syndrome-related coronavirus<br>Fraction Abundance=%{x}<br>Sample=%{y}<extra></extra>",
         "legendgroup": "Severe acute respiratory syndrome-related coronavirus",
         "marker": {
          "color": "#636efa",
          "pattern": {
           "shape": ""
          }
         },
         "name": "Severe acute respiratory syndrome-related coronavirus",
         "offsetgroup": "Severe acute respiratory syndrome-related coronavirus",
         "orientation": "h",
         "showlegend": true,
         "textposition": "auto",
         "type": "bar",
         "x": [
          1,
          0.02272,
          0.02272
         ],
         "xaxis": "x",
         "y": [
          "SRR18722209_T1",
          "sars_test_T1",
          "sars_cov_2_iontorrent_T1"
         ],
         "yaxis": "y"
        },
        {
         "alignmentgroup": "True",
         "hovertemplate": "Species=Simbu orthobunyavirus<br>Fraction Abundance=%{x}<br>Sample=%{y}<extra></extra>",
         "legendgroup": "Simbu orthobunyavirus",
         "marker": {
          "color": "#EF553B",
          "pattern": {
           "shape": ""
          }
         },
         "name": "Simbu orthobunyavirus",
         "offsetgroup": "Simbu orthobunyavirus",
         "orientation": "h",
         "showlegend": true,
         "textposition": "auto",
         "type": "bar",
         "x": [
          0,
          0.59166,
          0.59166
         ],
         "xaxis": "x",
         "y": [
          "SRR18722209_T1",
          "sars_test_T1",
          "sars_cov_2_iontorrent_T1"
         ],
         "yaxis": "y"
        },
        {
         "alignmentgroup": "True",
         "hovertemplate": "Species=Schmallenberg orthobunyavirus<br>Fraction Abundance=%{x}<br>Sample=%{y}<extra></extra>",
         "legendgroup": "Schmallenberg orthobunyavirus",
         "marker": {
          "color": "#00cc96",
          "pattern": {
           "shape": ""
          }
         },
         "name": "Schmallenberg orthobunyavirus",
         "offsetgroup": "Schmallenberg orthobunyavirus",
         "orientation": "h",
         "showlegend": true,
         "textposition": "auto",
         "type": "bar",
         "x": [
          0,
          0.30536,
          0.30536
         ],
         "xaxis": "x",
         "y": [
          "SRR18722209_T1",
          "sars_test_T1",
          "sars_cov_2_iontorrent_T1"
         ],
         "yaxis": "y"
        },
        {
         "alignmentgroup": "True",
         "hovertemplate": "Species=Choristoneura fumiferana granulovirus<br>Fraction Abundance=%{x}<br>Sample=%{y}<extra></extra>",
         "legendgroup": "Choristoneura fumiferana granulovirus",
         "marker": {
          "color": "#ab63fa",
          "pattern": {
           "shape": ""
          }
         },
         "name": "Choristoneura fumiferana granulovirus",
         "offsetgroup": "Choristoneura fumiferana granulovirus",
         "orientation": "h",
         "showlegend": true,
         "textposition": "auto",
         "type": "bar",
         "x": [
          0,
          0.06523,
          0.06523
         ],
         "xaxis": "x",
         "y": [
          "SRR18722209_T1",
          "sars_test_T1",
          "sars_cov_2_iontorrent_T1"
         ],
         "yaxis": "y"
        },
        {
         "alignmentgroup": "True",
         "hovertemplate": "Species=Menderavirus mendera<br>Fraction Abundance=%{x}<br>Sample=%{y}<extra></extra>",
         "legendgroup": "Menderavirus mendera",
         "marker": {
          "color": "#FFA15A",
          "pattern": {
           "shape": ""
          }
         },
         "name": "Menderavirus mendera",
         "offsetgroup": "Menderavirus mendera",
         "orientation": "h",
         "showlegend": true,
         "textposition": "auto",
         "type": "bar",
         "x": [
          0,
          0.00467,
          0.00467
         ],
         "xaxis": "x",
         "y": [
          "SRR18722209_T1",
          "sars_test_T1",
          "sars_cov_2_iontorrent_T1"
         ],
         "yaxis": "y"
        },
        {
         "alignmentgroup": "True",
         "hovertemplate": "Species=Polybotosvirus Atuph07<br>Fraction Abundance=%{x}<br>Sample=%{y}<extra></extra>",
         "legendgroup": "Polybotosvirus Atuph07",
         "marker": {
          "color": "#19d3f3",
          "pattern": {
           "shape": ""
          }
         },
         "name": "Polybotosvirus Atuph07",
         "offsetgroup": "Polybotosvirus Atuph07",
         "orientation": "h",
         "showlegend": true,
         "textposition": "auto",
         "type": "bar",
         "x": [
          0,
          0.00467,
          0.00467
         ],
         "xaxis": "x",
         "y": [
          "SRR18722209_T1",
          "sars_test_T1",
          "sars_cov_2_iontorrent_T1"
         ],
         "yaxis": "y"
        },
        {
         "alignmentgroup": "True",
         "hovertemplate": "Species=BeAn 58058 virus<br>Fraction Abundance=%{x}<br>Sample=%{y}<extra></extra>",
         "legendgroup": "BeAn 58058 virus",
         "marker": {
          "color": "#FF6692",
          "pattern": {
           "shape": ""
          }
         },
         "name": "BeAn 58058 virus",
         "offsetgroup": "BeAn 58058 virus",
         "orientation": "h",
         "showlegend": true,
         "textposition": "auto",
         "type": "bar",
         "x": [
          0,
          0.00202,
          0.00202
         ],
         "xaxis": "x",
         "y": [
          "SRR18722209_T1",
          "sars_test_T1",
          "sars_cov_2_iontorrent_T1"
         ],
         "yaxis": "y"
        },
        {
         "alignmentgroup": "True",
         "hovertemplate": "Species=Tigrvirus phiE094<br>Fraction Abundance=%{x}<br>Sample=%{y}<extra></extra>",
         "legendgroup": "Tigrvirus phiE094",
         "marker": {
          "color": "#B6E880",
          "pattern": {
           "shape": ""
          }
         },
         "name": "Tigrvirus phiE094",
         "offsetgroup": "Tigrvirus phiE094",
         "orientation": "h",
         "showlegend": true,
         "textposition": "auto",
         "type": "bar",
         "x": [
          0,
          0.00165,
          0.00165
         ],
         "xaxis": "x",
         "y": [
          "SRR18722209_T1",
          "sars_test_T1",
          "sars_cov_2_iontorrent_T1"
         ],
         "yaxis": "y"
        },
        {
         "alignmentgroup": "True",
         "hovertemplate": "Species=Oxbow orthohantavirus<br>Fraction Abundance=%{x}<br>Sample=%{y}<extra></extra>",
         "legendgroup": "Oxbow orthohantavirus",
         "marker": {
          "color": "#FF97FF",
          "pattern": {
           "shape": ""
          }
         },
         "name": "Oxbow orthohantavirus",
         "offsetgroup": "Oxbow orthohantavirus",
         "orientation": "h",
         "showlegend": true,
         "textposition": "auto",
         "type": "bar",
         "x": [
          0,
          0.00101,
          0.00101
         ],
         "xaxis": "x",
         "y": [
          "SRR18722209_T1",
          "sars_test_T1",
          "sars_cov_2_iontorrent_T1"
         ],
         "yaxis": "y"
        },
        {
         "alignmentgroup": "True",
         "hovertemplate": "Species=Pseudomonas phage PPpW-3<br>Fraction Abundance=%{x}<br>Sample=%{y}<extra></extra>",
         "legendgroup": "Pseudomonas phage PPpW-3",
         "marker": {
          "color": "#FECB52",
          "pattern": {
           "shape": ""
          }
         },
         "name": "Pseudomonas phage PPpW-3",
         "offsetgroup": "Pseudomonas phage PPpW-3",
         "orientation": "h",
         "showlegend": true,
         "textposition": "auto",
         "type": "bar",
         "x": [
          0,
          0.00101,
          0.00101
         ],
         "xaxis": "x",
         "y": [
          "SRR18722209_T1",
          "sars_test_T1",
          "sars_cov_2_iontorrent_T1"
         ],
         "yaxis": "y"
        }
       ],
       "layout": {
        "bargap": 0,
        "barmode": "relative",
        "legend": {
         "title": {
          "text": "Species"
         },
         "tracegroupgap": 0
        },
        "margin": {
         "t": 60
        },
        "showlegend": false,
        "template": {
         "data": {
          "bar": [
           {
            "error_x": {
             "color": "#2a3f5f"
            },
            "error_y": {
             "color": "#2a3f5f"
            },
            "marker": {
             "line": {
              "color": "#E5ECF6",
              "width": 0.5
             },
             "pattern": {
              "fillmode": "overlay",
              "size": 10,
              "solidity": 0.2
             }
            },
            "type": "bar"
           }
          ],
          "barpolar": [
           {
            "marker": {
             "line": {
              "color": "#E5ECF6",
              "width": 0.5
             },
             "pattern": {
              "fillmode": "overlay",
              "size": 10,
              "solidity": 0.2
             }
            },
            "type": "barpolar"
           }
          ],
          "carpet": [
           {
            "aaxis": {
             "endlinecolor": "#2a3f5f",
             "gridcolor": "white",
             "linecolor": "white",
             "minorgridcolor": "white",
             "startlinecolor": "#2a3f5f"
            },
            "baxis": {
             "endlinecolor": "#2a3f5f",
             "gridcolor": "white",
             "linecolor": "white",
             "minorgridcolor": "white",
             "startlinecolor": "#2a3f5f"
            },
            "type": "carpet"
           }
          ],
          "choropleth": [
           {
            "colorbar": {
             "outlinewidth": 0,
             "ticks": ""
            },
            "type": "choropleth"
           }
          ],
          "contour": [
           {
            "colorbar": {
             "outlinewidth": 0,
             "ticks": ""
            },
            "colorscale": [
             [
              0,
              "#0d0887"
             ],
             [
              0.1111111111111111,
              "#46039f"
             ],
             [
              0.2222222222222222,
              "#7201a8"
             ],
             [
              0.3333333333333333,
              "#9c179e"
             ],
             [
              0.4444444444444444,
              "#bd3786"
             ],
             [
              0.5555555555555556,
              "#d8576b"
             ],
             [
              0.6666666666666666,
              "#ed7953"
             ],
             [
              0.7777777777777778,
              "#fb9f3a"
             ],
             [
              0.8888888888888888,
              "#fdca26"
             ],
             [
              1,
              "#f0f921"
             ]
            ],
            "type": "contour"
           }
          ],
          "contourcarpet": [
           {
            "colorbar": {
             "outlinewidth": 0,
             "ticks": ""
            },
            "type": "contourcarpet"
           }
          ],
          "heatmap": [
           {
            "colorbar": {
             "outlinewidth": 0,
             "ticks": ""
            },
            "colorscale": [
             [
              0,
              "#0d0887"
             ],
             [
              0.1111111111111111,
              "#46039f"
             ],
             [
              0.2222222222222222,
              "#7201a8"
             ],
             [
              0.3333333333333333,
              "#9c179e"
             ],
             [
              0.4444444444444444,
              "#bd3786"
             ],
             [
              0.5555555555555556,
              "#d8576b"
             ],
             [
              0.6666666666666666,
              "#ed7953"
             ],
             [
              0.7777777777777778,
              "#fb9f3a"
             ],
             [
              0.8888888888888888,
              "#fdca26"
             ],
             [
              1,
              "#f0f921"
             ]
            ],
            "type": "heatmap"
           }
          ],
          "heatmapgl": [
           {
            "colorbar": {
             "outlinewidth": 0,
             "ticks": ""
            },
            "colorscale": [
             [
              0,
              "#0d0887"
             ],
             [
              0.1111111111111111,
              "#46039f"
             ],
             [
              0.2222222222222222,
              "#7201a8"
             ],
             [
              0.3333333333333333,
              "#9c179e"
             ],
             [
              0.4444444444444444,
              "#bd3786"
             ],
             [
              0.5555555555555556,
              "#d8576b"
             ],
             [
              0.6666666666666666,
              "#ed7953"
             ],
             [
              0.7777777777777778,
              "#fb9f3a"
             ],
             [
              0.8888888888888888,
              "#fdca26"
             ],
             [
              1,
              "#f0f921"
             ]
            ],
            "type": "heatmapgl"
           }
          ],
          "histogram": [
           {
            "marker": {
             "pattern": {
              "fillmode": "overlay",
              "size": 10,
              "solidity": 0.2
             }
            },
            "type": "histogram"
           }
          ],
          "histogram2d": [
           {
            "colorbar": {
             "outlinewidth": 0,
             "ticks": ""
            },
            "colorscale": [
             [
              0,
              "#0d0887"
             ],
             [
              0.1111111111111111,
              "#46039f"
             ],
             [
              0.2222222222222222,
              "#7201a8"
             ],
             [
              0.3333333333333333,
              "#9c179e"
             ],
             [
              0.4444444444444444,
              "#bd3786"
             ],
             [
              0.5555555555555556,
              "#d8576b"
             ],
             [
              0.6666666666666666,
              "#ed7953"
             ],
             [
              0.7777777777777778,
              "#fb9f3a"
             ],
             [
              0.8888888888888888,
              "#fdca26"
             ],
             [
              1,
              "#f0f921"
             ]
            ],
            "type": "histogram2d"
           }
          ],
          "histogram2dcontour": [
           {
            "colorbar": {
             "outlinewidth": 0,
             "ticks": ""
            },
            "colorscale": [
             [
              0,
              "#0d0887"
             ],
             [
              0.1111111111111111,
              "#46039f"
             ],
             [
              0.2222222222222222,
              "#7201a8"
             ],
             [
              0.3333333333333333,
              "#9c179e"
             ],
             [
              0.4444444444444444,
              "#bd3786"
             ],
             [
              0.5555555555555556,
              "#d8576b"
             ],
             [
              0.6666666666666666,
              "#ed7953"
             ],
             [
              0.7777777777777778,
              "#fb9f3a"
             ],
             [
              0.8888888888888888,
              "#fdca26"
             ],
             [
              1,
              "#f0f921"
             ]
            ],
            "type": "histogram2dcontour"
           }
          ],
          "mesh3d": [
           {
            "colorbar": {
             "outlinewidth": 0,
             "ticks": ""
            },
            "type": "mesh3d"
           }
          ],
          "parcoords": [
           {
            "line": {
             "colorbar": {
              "outlinewidth": 0,
              "ticks": ""
             }
            },
            "type": "parcoords"
           }
          ],
          "pie": [
           {
            "automargin": true,
            "type": "pie"
           }
          ],
          "scatter": [
           {
            "fillpattern": {
             "fillmode": "overlay",
             "size": 10,
             "solidity": 0.2
            },
            "type": "scatter"
           }
          ],
          "scatter3d": [
           {
            "line": {
             "colorbar": {
              "outlinewidth": 0,
              "ticks": ""
             }
            },
            "marker": {
             "colorbar": {
              "outlinewidth": 0,
              "ticks": ""
             }
            },
            "type": "scatter3d"
           }
          ],
          "scattercarpet": [
           {
            "marker": {
             "colorbar": {
              "outlinewidth": 0,
              "ticks": ""
             }
            },
            "type": "scattercarpet"
           }
          ],
          "scattergeo": [
           {
            "marker": {
             "colorbar": {
              "outlinewidth": 0,
              "ticks": ""
             }
            },
            "type": "scattergeo"
           }
          ],
          "scattergl": [
           {
            "marker": {
             "colorbar": {
              "outlinewidth": 0,
              "ticks": ""
             }
            },
            "type": "scattergl"
           }
          ],
          "scattermapbox": [
           {
            "marker": {
             "colorbar": {
              "outlinewidth": 0,
              "ticks": ""
             }
            },
            "type": "scattermapbox"
           }
          ],
          "scatterpolar": [
           {
            "marker": {
             "colorbar": {
              "outlinewidth": 0,
              "ticks": ""
             }
            },
            "type": "scatterpolar"
           }
          ],
          "scatterpolargl": [
           {
            "marker": {
             "colorbar": {
              "outlinewidth": 0,
              "ticks": ""
             }
            },
            "type": "scatterpolargl"
           }
          ],
          "scatterternary": [
           {
            "marker": {
             "colorbar": {
              "outlinewidth": 0,
              "ticks": ""
             }
            },
            "type": "scatterternary"
           }
          ],
          "surface": [
           {
            "colorbar": {
             "outlinewidth": 0,
             "ticks": ""
            },
            "colorscale": [
             [
              0,
              "#0d0887"
             ],
             [
              0.1111111111111111,
              "#46039f"
             ],
             [
              0.2222222222222222,
              "#7201a8"
             ],
             [
              0.3333333333333333,
              "#9c179e"
             ],
             [
              0.4444444444444444,
              "#bd3786"
             ],
             [
              0.5555555555555556,
              "#d8576b"
             ],
             [
              0.6666666666666666,
              "#ed7953"
             ],
             [
              0.7777777777777778,
              "#fb9f3a"
             ],
             [
              0.8888888888888888,
              "#fdca26"
             ],
             [
              1,
              "#f0f921"
             ]
            ],
            "type": "surface"
           }
          ],
          "table": [
           {
            "cells": {
             "fill": {
              "color": "#EBF0F8"
             },
             "line": {
              "color": "white"
             }
            },
            "header": {
             "fill": {
              "color": "#C8D4E3"
             },
             "line": {
              "color": "white"
             }
            },
            "type": "table"
           }
          ]
         },
         "layout": {
          "annotationdefaults": {
           "arrowcolor": "#2a3f5f",
           "arrowhead": 0,
           "arrowwidth": 1
          },
          "autotypenumbers": "strict",
          "coloraxis": {
           "colorbar": {
            "outlinewidth": 0,
            "ticks": ""
           }
          },
          "colorscale": {
           "diverging": [
            [
             0,
             "#8e0152"
            ],
            [
             0.1,
             "#c51b7d"
            ],
            [
             0.2,
             "#de77ae"
            ],
            [
             0.3,
             "#f1b6da"
            ],
            [
             0.4,
             "#fde0ef"
            ],
            [
             0.5,
             "#f7f7f7"
            ],
            [
             0.6,
             "#e6f5d0"
            ],
            [
             0.7,
             "#b8e186"
            ],
            [
             0.8,
             "#7fbc41"
            ],
            [
             0.9,
             "#4d9221"
            ],
            [
             1,
             "#276419"
            ]
           ],
           "sequential": [
            [
             0,
             "#0d0887"
            ],
            [
             0.1111111111111111,
             "#46039f"
            ],
            [
             0.2222222222222222,
             "#7201a8"
            ],
            [
             0.3333333333333333,
             "#9c179e"
            ],
            [
             0.4444444444444444,
             "#bd3786"
            ],
            [
             0.5555555555555556,
             "#d8576b"
            ],
            [
             0.6666666666666666,
             "#ed7953"
            ],
            [
             0.7777777777777778,
             "#fb9f3a"
            ],
            [
             0.8888888888888888,
             "#fdca26"
            ],
            [
             1,
             "#f0f921"
            ]
           ],
           "sequentialminus": [
            [
             0,
             "#0d0887"
            ],
            [
             0.1111111111111111,
             "#46039f"
            ],
            [
             0.2222222222222222,
             "#7201a8"
            ],
            [
             0.3333333333333333,
             "#9c179e"
            ],
            [
             0.4444444444444444,
             "#bd3786"
            ],
            [
             0.5555555555555556,
             "#d8576b"
            ],
            [
             0.6666666666666666,
             "#ed7953"
            ],
            [
             0.7777777777777778,
             "#fb9f3a"
            ],
            [
             0.8888888888888888,
             "#fdca26"
            ],
            [
             1,
             "#f0f921"
            ]
           ]
          },
          "colorway": [
           "#636efa",
           "#EF553B",
           "#00cc96",
           "#ab63fa",
           "#FFA15A",
           "#19d3f3",
           "#FF6692",
           "#B6E880",
           "#FF97FF",
           "#FECB52"
          ],
          "font": {
           "color": "#2a3f5f"
          },
          "geo": {
           "bgcolor": "white",
           "lakecolor": "white",
           "landcolor": "#E5ECF6",
           "showlakes": true,
           "showland": true,
           "subunitcolor": "white"
          },
          "hoverlabel": {
           "align": "left"
          },
          "hovermode": "closest",
          "mapbox": {
           "style": "light"
          },
          "paper_bgcolor": "white",
          "plot_bgcolor": "#E5ECF6",
          "polar": {
           "angularaxis": {
            "gridcolor": "white",
            "linecolor": "white",
            "ticks": ""
           },
           "bgcolor": "#E5ECF6",
           "radialaxis": {
            "gridcolor": "white",
            "linecolor": "white",
            "ticks": ""
           }
          },
          "scene": {
           "xaxis": {
            "backgroundcolor": "#E5ECF6",
            "gridcolor": "white",
            "gridwidth": 2,
            "linecolor": "white",
            "showbackground": true,
            "ticks": "",
            "zerolinecolor": "white"
           },
           "yaxis": {
            "backgroundcolor": "#E5ECF6",
            "gridcolor": "white",
            "gridwidth": 2,
            "linecolor": "white",
            "showbackground": true,
            "ticks": "",
            "zerolinecolor": "white"
           },
           "zaxis": {
            "backgroundcolor": "#E5ECF6",
            "gridcolor": "white",
            "gridwidth": 2,
            "linecolor": "white",
            "showbackground": true,
            "ticks": "",
            "zerolinecolor": "white"
           }
          },
          "shapedefaults": {
           "line": {
            "color": "#2a3f5f"
           }
          },
          "ternary": {
           "aaxis": {
            "gridcolor": "white",
            "linecolor": "white",
            "ticks": ""
           },
           "baxis": {
            "gridcolor": "white",
            "linecolor": "white",
            "ticks": ""
           },
           "bgcolor": "#E5ECF6",
           "caxis": {
            "gridcolor": "white",
            "linecolor": "white",
            "ticks": ""
           }
          },
          "title": {
           "x": 0.05
          },
          "xaxis": {
           "automargin": true,
           "gridcolor": "white",
           "linecolor": "white",
           "ticks": "",
           "title": {
            "standoff": 15
           },
           "zerolinecolor": "white",
           "zerolinewidth": 2
          },
          "yaxis": {
           "automargin": true,
           "gridcolor": "white",
           "linecolor": "white",
           "ticks": "",
           "title": {
            "standoff": 15
           },
           "zerolinecolor": "white",
           "zerolinewidth": 2
          }
         }
        },
        "xaxis": {
         "anchor": "y",
         "domain": [
          0,
          1
         ],
         "title": {
          "text": "Relative Abundance (%)"
         }
        },
        "yaxis": {
         "anchor": "x",
         "domain": [
          0,
          1
         ],
         "title": {
          "text": "Sample"
         }
        }
       }
      },
      "text/html": [
       "<div>                            <div id=\"2986ad9f-662e-44d3-b231-45499f609db7\" class=\"plotly-graph-div\" style=\"height:525px; width:100%;\"></div>            <script type=\"text/javascript\">                require([\"plotly\"], function(Plotly) {                    window.PLOTLYENV=window.PLOTLYENV || {};                                    if (document.getElementById(\"2986ad9f-662e-44d3-b231-45499f609db7\")) {                    Plotly.newPlot(                        \"2986ad9f-662e-44d3-b231-45499f609db7\",                        [{\"alignmentgroup\":\"True\",\"hovertemplate\":\"Species=Severe acute respiratory syndrome-related coronavirus<br>Fraction Abundance=%{x}<br>Sample=%{y}<extra></extra>\",\"legendgroup\":\"Severe acute respiratory syndrome-related coronavirus\",\"marker\":{\"color\":\"#636efa\",\"pattern\":{\"shape\":\"\"}},\"name\":\"Severe acute respiratory syndrome-related coronavirus\",\"offsetgroup\":\"Severe acute respiratory syndrome-related coronavirus\",\"orientation\":\"h\",\"showlegend\":true,\"textposition\":\"auto\",\"x\":[1.0,0.02272,0.02272],\"xaxis\":\"x\",\"y\":[\"SRR18722209_T1\",\"sars_test_T1\",\"sars_cov_2_iontorrent_T1\"],\"yaxis\":\"y\",\"type\":\"bar\"},{\"alignmentgroup\":\"True\",\"hovertemplate\":\"Species=Simbu orthobunyavirus<br>Fraction Abundance=%{x}<br>Sample=%{y}<extra></extra>\",\"legendgroup\":\"Simbu orthobunyavirus\",\"marker\":{\"color\":\"#EF553B\",\"pattern\":{\"shape\":\"\"}},\"name\":\"Simbu orthobunyavirus\",\"offsetgroup\":\"Simbu orthobunyavirus\",\"orientation\":\"h\",\"showlegend\":true,\"textposition\":\"auto\",\"x\":[0.0,0.59166,0.59166],\"xaxis\":\"x\",\"y\":[\"SRR18722209_T1\",\"sars_test_T1\",\"sars_cov_2_iontorrent_T1\"],\"yaxis\":\"y\",\"type\":\"bar\"},{\"alignmentgroup\":\"True\",\"hovertemplate\":\"Species=Schmallenberg orthobunyavirus<br>Fraction Abundance=%{x}<br>Sample=%{y}<extra></extra>\",\"legendgroup\":\"Schmallenberg orthobunyavirus\",\"marker\":{\"color\":\"#00cc96\",\"pattern\":{\"shape\":\"\"}},\"name\":\"Schmallenberg orthobunyavirus\",\"offsetgroup\":\"Schmallenberg orthobunyavirus\",\"orientation\":\"h\",\"showlegend\":true,\"textposition\":\"auto\",\"x\":[0.0,0.30536,0.30536],\"xaxis\":\"x\",\"y\":[\"SRR18722209_T1\",\"sars_test_T1\",\"sars_cov_2_iontorrent_T1\"],\"yaxis\":\"y\",\"type\":\"bar\"},{\"alignmentgroup\":\"True\",\"hovertemplate\":\"Species=Choristoneura fumiferana granulovirus<br>Fraction Abundance=%{x}<br>Sample=%{y}<extra></extra>\",\"legendgroup\":\"Choristoneura fumiferana granulovirus\",\"marker\":{\"color\":\"#ab63fa\",\"pattern\":{\"shape\":\"\"}},\"name\":\"Choristoneura fumiferana granulovirus\",\"offsetgroup\":\"Choristoneura fumiferana granulovirus\",\"orientation\":\"h\",\"showlegend\":true,\"textposition\":\"auto\",\"x\":[0.0,0.06523,0.06523],\"xaxis\":\"x\",\"y\":[\"SRR18722209_T1\",\"sars_test_T1\",\"sars_cov_2_iontorrent_T1\"],\"yaxis\":\"y\",\"type\":\"bar\"},{\"alignmentgroup\":\"True\",\"hovertemplate\":\"Species=Menderavirus mendera<br>Fraction Abundance=%{x}<br>Sample=%{y}<extra></extra>\",\"legendgroup\":\"Menderavirus mendera\",\"marker\":{\"color\":\"#FFA15A\",\"pattern\":{\"shape\":\"\"}},\"name\":\"Menderavirus mendera\",\"offsetgroup\":\"Menderavirus mendera\",\"orientation\":\"h\",\"showlegend\":true,\"textposition\":\"auto\",\"x\":[0.0,0.00467,0.00467],\"xaxis\":\"x\",\"y\":[\"SRR18722209_T1\",\"sars_test_T1\",\"sars_cov_2_iontorrent_T1\"],\"yaxis\":\"y\",\"type\":\"bar\"},{\"alignmentgroup\":\"True\",\"hovertemplate\":\"Species=Polybotosvirus Atuph07<br>Fraction Abundance=%{x}<br>Sample=%{y}<extra></extra>\",\"legendgroup\":\"Polybotosvirus Atuph07\",\"marker\":{\"color\":\"#19d3f3\",\"pattern\":{\"shape\":\"\"}},\"name\":\"Polybotosvirus Atuph07\",\"offsetgroup\":\"Polybotosvirus Atuph07\",\"orientation\":\"h\",\"showlegend\":true,\"textposition\":\"auto\",\"x\":[0.0,0.00467,0.00467],\"xaxis\":\"x\",\"y\":[\"SRR18722209_T1\",\"sars_test_T1\",\"sars_cov_2_iontorrent_T1\"],\"yaxis\":\"y\",\"type\":\"bar\"},{\"alignmentgroup\":\"True\",\"hovertemplate\":\"Species=BeAn 58058 virus<br>Fraction Abundance=%{x}<br>Sample=%{y}<extra></extra>\",\"legendgroup\":\"BeAn 58058 virus\",\"marker\":{\"color\":\"#FF6692\",\"pattern\":{\"shape\":\"\"}},\"name\":\"BeAn 58058 virus\",\"offsetgroup\":\"BeAn 58058 virus\",\"orientation\":\"h\",\"showlegend\":true,\"textposition\":\"auto\",\"x\":[0.0,0.00202,0.00202],\"xaxis\":\"x\",\"y\":[\"SRR18722209_T1\",\"sars_test_T1\",\"sars_cov_2_iontorrent_T1\"],\"yaxis\":\"y\",\"type\":\"bar\"},{\"alignmentgroup\":\"True\",\"hovertemplate\":\"Species=Tigrvirus phiE094<br>Fraction Abundance=%{x}<br>Sample=%{y}<extra></extra>\",\"legendgroup\":\"Tigrvirus phiE094\",\"marker\":{\"color\":\"#B6E880\",\"pattern\":{\"shape\":\"\"}},\"name\":\"Tigrvirus phiE094\",\"offsetgroup\":\"Tigrvirus phiE094\",\"orientation\":\"h\",\"showlegend\":true,\"textposition\":\"auto\",\"x\":[0.0,0.00165,0.00165],\"xaxis\":\"x\",\"y\":[\"SRR18722209_T1\",\"sars_test_T1\",\"sars_cov_2_iontorrent_T1\"],\"yaxis\":\"y\",\"type\":\"bar\"},{\"alignmentgroup\":\"True\",\"hovertemplate\":\"Species=Oxbow orthohantavirus<br>Fraction Abundance=%{x}<br>Sample=%{y}<extra></extra>\",\"legendgroup\":\"Oxbow orthohantavirus\",\"marker\":{\"color\":\"#FF97FF\",\"pattern\":{\"shape\":\"\"}},\"name\":\"Oxbow orthohantavirus\",\"offsetgroup\":\"Oxbow orthohantavirus\",\"orientation\":\"h\",\"showlegend\":true,\"textposition\":\"auto\",\"x\":[0.0,0.00101,0.00101],\"xaxis\":\"x\",\"y\":[\"SRR18722209_T1\",\"sars_test_T1\",\"sars_cov_2_iontorrent_T1\"],\"yaxis\":\"y\",\"type\":\"bar\"},{\"alignmentgroup\":\"True\",\"hovertemplate\":\"Species=Pseudomonas phage PPpW-3<br>Fraction Abundance=%{x}<br>Sample=%{y}<extra></extra>\",\"legendgroup\":\"Pseudomonas phage PPpW-3\",\"marker\":{\"color\":\"#FECB52\",\"pattern\":{\"shape\":\"\"}},\"name\":\"Pseudomonas phage PPpW-3\",\"offsetgroup\":\"Pseudomonas phage PPpW-3\",\"orientation\":\"h\",\"showlegend\":true,\"textposition\":\"auto\",\"x\":[0.0,0.00101,0.00101],\"xaxis\":\"x\",\"y\":[\"SRR18722209_T1\",\"sars_test_T1\",\"sars_cov_2_iontorrent_T1\"],\"yaxis\":\"y\",\"type\":\"bar\"}],                        {\"template\":{\"data\":{\"histogram2dcontour\":[{\"type\":\"histogram2dcontour\",\"colorbar\":{\"outlinewidth\":0,\"ticks\":\"\"},\"colorscale\":[[0.0,\"#0d0887\"],[0.1111111111111111,\"#46039f\"],[0.2222222222222222,\"#7201a8\"],[0.3333333333333333,\"#9c179e\"],[0.4444444444444444,\"#bd3786\"],[0.5555555555555556,\"#d8576b\"],[0.6666666666666666,\"#ed7953\"],[0.7777777777777778,\"#fb9f3a\"],[0.8888888888888888,\"#fdca26\"],[1.0,\"#f0f921\"]]}],\"choropleth\":[{\"type\":\"choropleth\",\"colorbar\":{\"outlinewidth\":0,\"ticks\":\"\"}}],\"histogram2d\":[{\"type\":\"histogram2d\",\"colorbar\":{\"outlinewidth\":0,\"ticks\":\"\"},\"colorscale\":[[0.0,\"#0d0887\"],[0.1111111111111111,\"#46039f\"],[0.2222222222222222,\"#7201a8\"],[0.3333333333333333,\"#9c179e\"],[0.4444444444444444,\"#bd3786\"],[0.5555555555555556,\"#d8576b\"],[0.6666666666666666,\"#ed7953\"],[0.7777777777777778,\"#fb9f3a\"],[0.8888888888888888,\"#fdca26\"],[1.0,\"#f0f921\"]]}],\"heatmap\":[{\"type\":\"heatmap\",\"colorbar\":{\"outlinewidth\":0,\"ticks\":\"\"},\"colorscale\":[[0.0,\"#0d0887\"],[0.1111111111111111,\"#46039f\"],[0.2222222222222222,\"#7201a8\"],[0.3333333333333333,\"#9c179e\"],[0.4444444444444444,\"#bd3786\"],[0.5555555555555556,\"#d8576b\"],[0.6666666666666666,\"#ed7953\"],[0.7777777777777778,\"#fb9f3a\"],[0.8888888888888888,\"#fdca26\"],[1.0,\"#f0f921\"]]}],\"heatmapgl\":[{\"type\":\"heatmapgl\",\"colorbar\":{\"outlinewidth\":0,\"ticks\":\"\"},\"colorscale\":[[0.0,\"#0d0887\"],[0.1111111111111111,\"#46039f\"],[0.2222222222222222,\"#7201a8\"],[0.3333333333333333,\"#9c179e\"],[0.4444444444444444,\"#bd3786\"],[0.5555555555555556,\"#d8576b\"],[0.6666666666666666,\"#ed7953\"],[0.7777777777777778,\"#fb9f3a\"],[0.8888888888888888,\"#fdca26\"],[1.0,\"#f0f921\"]]}],\"contourcarpet\":[{\"type\":\"contourcarpet\",\"colorbar\":{\"outlinewidth\":0,\"ticks\":\"\"}}],\"contour\":[{\"type\":\"contour\",\"colorbar\":{\"outlinewidth\":0,\"ticks\":\"\"},\"colorscale\":[[0.0,\"#0d0887\"],[0.1111111111111111,\"#46039f\"],[0.2222222222222222,\"#7201a8\"],[0.3333333333333333,\"#9c179e\"],[0.4444444444444444,\"#bd3786\"],[0.5555555555555556,\"#d8576b\"],[0.6666666666666666,\"#ed7953\"],[0.7777777777777778,\"#fb9f3a\"],[0.8888888888888888,\"#fdca26\"],[1.0,\"#f0f921\"]]}],\"surface\":[{\"type\":\"surface\",\"colorbar\":{\"outlinewidth\":0,\"ticks\":\"\"},\"colorscale\":[[0.0,\"#0d0887\"],[0.1111111111111111,\"#46039f\"],[0.2222222222222222,\"#7201a8\"],[0.3333333333333333,\"#9c179e\"],[0.4444444444444444,\"#bd3786\"],[0.5555555555555556,\"#d8576b\"],[0.6666666666666666,\"#ed7953\"],[0.7777777777777778,\"#fb9f3a\"],[0.8888888888888888,\"#fdca26\"],[1.0,\"#f0f921\"]]}],\"mesh3d\":[{\"type\":\"mesh3d\",\"colorbar\":{\"outlinewidth\":0,\"ticks\":\"\"}}],\"scatter\":[{\"fillpattern\":{\"fillmode\":\"overlay\",\"size\":10,\"solidity\":0.2},\"type\":\"scatter\"}],\"parcoords\":[{\"type\":\"parcoords\",\"line\":{\"colorbar\":{\"outlinewidth\":0,\"ticks\":\"\"}}}],\"scatterpolargl\":[{\"type\":\"scatterpolargl\",\"marker\":{\"colorbar\":{\"outlinewidth\":0,\"ticks\":\"\"}}}],\"bar\":[{\"error_x\":{\"color\":\"#2a3f5f\"},\"error_y\":{\"color\":\"#2a3f5f\"},\"marker\":{\"line\":{\"color\":\"#E5ECF6\",\"width\":0.5},\"pattern\":{\"fillmode\":\"overlay\",\"size\":10,\"solidity\":0.2}},\"type\":\"bar\"}],\"scattergeo\":[{\"type\":\"scattergeo\",\"marker\":{\"colorbar\":{\"outlinewidth\":0,\"ticks\":\"\"}}}],\"scatterpolar\":[{\"type\":\"scatterpolar\",\"marker\":{\"colorbar\":{\"outlinewidth\":0,\"ticks\":\"\"}}}],\"histogram\":[{\"marker\":{\"pattern\":{\"fillmode\":\"overlay\",\"size\":10,\"solidity\":0.2}},\"type\":\"histogram\"}],\"scattergl\":[{\"type\":\"scattergl\",\"marker\":{\"colorbar\":{\"outlinewidth\":0,\"ticks\":\"\"}}}],\"scatter3d\":[{\"type\":\"scatter3d\",\"line\":{\"colorbar\":{\"outlinewidth\":0,\"ticks\":\"\"}},\"marker\":{\"colorbar\":{\"outlinewidth\":0,\"ticks\":\"\"}}}],\"scattermapbox\":[{\"type\":\"scattermapbox\",\"marker\":{\"colorbar\":{\"outlinewidth\":0,\"ticks\":\"\"}}}],\"scatterternary\":[{\"type\":\"scatterternary\",\"marker\":{\"colorbar\":{\"outlinewidth\":0,\"ticks\":\"\"}}}],\"scattercarpet\":[{\"type\":\"scattercarpet\",\"marker\":{\"colorbar\":{\"outlinewidth\":0,\"ticks\":\"\"}}}],\"carpet\":[{\"aaxis\":{\"endlinecolor\":\"#2a3f5f\",\"gridcolor\":\"white\",\"linecolor\":\"white\",\"minorgridcolor\":\"white\",\"startlinecolor\":\"#2a3f5f\"},\"baxis\":{\"endlinecolor\":\"#2a3f5f\",\"gridcolor\":\"white\",\"linecolor\":\"white\",\"minorgridcolor\":\"white\",\"startlinecolor\":\"#2a3f5f\"},\"type\":\"carpet\"}],\"table\":[{\"cells\":{\"fill\":{\"color\":\"#EBF0F8\"},\"line\":{\"color\":\"white\"}},\"header\":{\"fill\":{\"color\":\"#C8D4E3\"},\"line\":{\"color\":\"white\"}},\"type\":\"table\"}],\"barpolar\":[{\"marker\":{\"line\":{\"color\":\"#E5ECF6\",\"width\":0.5},\"pattern\":{\"fillmode\":\"overlay\",\"size\":10,\"solidity\":0.2}},\"type\":\"barpolar\"}],\"pie\":[{\"automargin\":true,\"type\":\"pie\"}]},\"layout\":{\"autotypenumbers\":\"strict\",\"colorway\":[\"#636efa\",\"#EF553B\",\"#00cc96\",\"#ab63fa\",\"#FFA15A\",\"#19d3f3\",\"#FF6692\",\"#B6E880\",\"#FF97FF\",\"#FECB52\"],\"font\":{\"color\":\"#2a3f5f\"},\"hovermode\":\"closest\",\"hoverlabel\":{\"align\":\"left\"},\"paper_bgcolor\":\"white\",\"plot_bgcolor\":\"#E5ECF6\",\"polar\":{\"bgcolor\":\"#E5ECF6\",\"angularaxis\":{\"gridcolor\":\"white\",\"linecolor\":\"white\",\"ticks\":\"\"},\"radialaxis\":{\"gridcolor\":\"white\",\"linecolor\":\"white\",\"ticks\":\"\"}},\"ternary\":{\"bgcolor\":\"#E5ECF6\",\"aaxis\":{\"gridcolor\":\"white\",\"linecolor\":\"white\",\"ticks\":\"\"},\"baxis\":{\"gridcolor\":\"white\",\"linecolor\":\"white\",\"ticks\":\"\"},\"caxis\":{\"gridcolor\":\"white\",\"linecolor\":\"white\",\"ticks\":\"\"}},\"coloraxis\":{\"colorbar\":{\"outlinewidth\":0,\"ticks\":\"\"}},\"colorscale\":{\"sequential\":[[0.0,\"#0d0887\"],[0.1111111111111111,\"#46039f\"],[0.2222222222222222,\"#7201a8\"],[0.3333333333333333,\"#9c179e\"],[0.4444444444444444,\"#bd3786\"],[0.5555555555555556,\"#d8576b\"],[0.6666666666666666,\"#ed7953\"],[0.7777777777777778,\"#fb9f3a\"],[0.8888888888888888,\"#fdca26\"],[1.0,\"#f0f921\"]],\"sequentialminus\":[[0.0,\"#0d0887\"],[0.1111111111111111,\"#46039f\"],[0.2222222222222222,\"#7201a8\"],[0.3333333333333333,\"#9c179e\"],[0.4444444444444444,\"#bd3786\"],[0.5555555555555556,\"#d8576b\"],[0.6666666666666666,\"#ed7953\"],[0.7777777777777778,\"#fb9f3a\"],[0.8888888888888888,\"#fdca26\"],[1.0,\"#f0f921\"]],\"diverging\":[[0,\"#8e0152\"],[0.1,\"#c51b7d\"],[0.2,\"#de77ae\"],[0.3,\"#f1b6da\"],[0.4,\"#fde0ef\"],[0.5,\"#f7f7f7\"],[0.6,\"#e6f5d0\"],[0.7,\"#b8e186\"],[0.8,\"#7fbc41\"],[0.9,\"#4d9221\"],[1,\"#276419\"]]},\"xaxis\":{\"gridcolor\":\"white\",\"linecolor\":\"white\",\"ticks\":\"\",\"title\":{\"standoff\":15},\"zerolinecolor\":\"white\",\"automargin\":true,\"zerolinewidth\":2},\"yaxis\":{\"gridcolor\":\"white\",\"linecolor\":\"white\",\"ticks\":\"\",\"title\":{\"standoff\":15},\"zerolinecolor\":\"white\",\"automargin\":true,\"zerolinewidth\":2},\"scene\":{\"xaxis\":{\"backgroundcolor\":\"#E5ECF6\",\"gridcolor\":\"white\",\"linecolor\":\"white\",\"showbackground\":true,\"ticks\":\"\",\"zerolinecolor\":\"white\",\"gridwidth\":2},\"yaxis\":{\"backgroundcolor\":\"#E5ECF6\",\"gridcolor\":\"white\",\"linecolor\":\"white\",\"showbackground\":true,\"ticks\":\"\",\"zerolinecolor\":\"white\",\"gridwidth\":2},\"zaxis\":{\"backgroundcolor\":\"#E5ECF6\",\"gridcolor\":\"white\",\"linecolor\":\"white\",\"showbackground\":true,\"ticks\":\"\",\"zerolinecolor\":\"white\",\"gridwidth\":2}},\"shapedefaults\":{\"line\":{\"color\":\"#2a3f5f\"}},\"annotationdefaults\":{\"arrowcolor\":\"#2a3f5f\",\"arrowhead\":0,\"arrowwidth\":1},\"geo\":{\"bgcolor\":\"white\",\"landcolor\":\"#E5ECF6\",\"subunitcolor\":\"white\",\"showland\":true,\"showlakes\":true,\"lakecolor\":\"white\"},\"title\":{\"x\":0.05},\"mapbox\":{\"style\":\"light\"}}},\"xaxis\":{\"anchor\":\"y\",\"domain\":[0.0,1.0],\"title\":{\"text\":\"Relative Abundance (%)\"}},\"yaxis\":{\"anchor\":\"x\",\"domain\":[0.0,1.0],\"title\":{\"text\":\"Sample\"}},\"legend\":{\"title\":{\"text\":\"Species\"},\"tracegroupgap\":0},\"margin\":{\"t\":60},\"barmode\":\"relative\",\"bargap\":0,\"showlegend\":false},                        {\"responsive\": true}                    ).then(function(){\n",
       "                            \n",
       "var gd = document.getElementById('2986ad9f-662e-44d3-b231-45499f609db7');\n",
       "var x = new MutationObserver(function (mutations, observer) {{\n",
       "        var display = window.getComputedStyle(gd).display;\n",
       "        if (!display || display === 'none') {{\n",
       "            console.log([gd, 'removed!']);\n",
       "            Plotly.purge(gd);\n",
       "            observer.disconnect();\n",
       "        }}\n",
       "}});\n",
       "\n",
       "// Listen for the removal of the full notebook cells\n",
       "var notebookContainer = gd.closest('#notebook-container');\n",
       "if (notebookContainer) {{\n",
       "    x.observe(notebookContainer, {childList: true});\n",
       "}}\n",
       "\n",
       "// Listen for the clearing of the current output cell\n",
       "var outputEl = gd.closest('.output');\n",
       "if (outputEl) {{\n",
       "    x.observe(outputEl, {childList: true});\n",
       "}}\n",
       "\n",
       "                        })                };                });            </script>        </div>"
      ]
     },
     "metadata": {},
     "output_type": "display_data"
    }
   ],
   "source": [
    "import plotly.express as px\n",
    "\n",
    "def plot_bracken(df):\n",
    "    # Rename and melt columns\n",
    "    new_columns = {\"name\": \"Species\", \"variable\": \"Sample\", \"value\": \"Fraction Abundance\"}\n",
    "    new_df = df.melt(id_vars=\"name\").rename(columns=new_columns)\n",
    "\n",
    "    # Generate express chart\n",
    "    figx = px.bar(new_df, y=\"Sample\", x=\"Fraction Abundance\", color=\"Species\")\n",
    "\n",
    "    figx.update_layout(\n",
    "        yaxis_title=\"Sample\",\n",
    "        xaxis_title=\"Relative Abundance (%)\",\n",
    "        bargap=0,\n",
    "    )\n",
    "    \n",
    "    return figx\n",
    "\n",
    "plot_bracken(bracken_df)"
   ]
  },
  {
   "attachments": {},
   "cell_type": "markdown",
   "metadata": {},
   "source": [
    "## Raw data\n",
    "Raw relative abundance results  "
   ]
  },
  {
   "cell_type": "code",
   "execution_count": 10,
   "metadata": {},
   "outputs": [
    {
     "data": {
      "text/html": [
       "<style>.itables table td {\n",
       "    text-overflow: ellipsis;\n",
       "    overflow: hidden;\n",
       "}\n",
       "\n",
       ".itables table th {\n",
       "    text-overflow: ellipsis;\n",
       "    overflow: hidden;\n",
       "}\n",
       "\n",
       ".itables thead input {\n",
       "    width: 100%;\n",
       "    padding: 3px;\n",
       "    box-sizing: border-box;\n",
       "}\n",
       "\n",
       ".itables tfoot input {\n",
       "    width: 100%;\n",
       "    padding: 3px;\n",
       "    box-sizing: border-box;\n",
       "}\n",
       "</style>\n",
       "<div class=\"itables\">\n",
       "<table id=\"ff66f10c-e0db-40d1-bba2-728d4edd069f\" class=\"display nowrap\"style=\"table-layout:auto;width:100%;margin:auto;caption-side:bottom\"><thead>\n",
       "    <tr style=\"text-align: right;\">\n",
       "      \n",
       "      <th>name</th>\n",
       "      <th>SRR18722209_T1</th>\n",
       "      <th>sars_test_T1</th>\n",
       "      <th>sars_cov_2_iontorrent_T1</th>\n",
       "    </tr>\n",
       "  </thead><tbody><tr><td>Loading... (need <a href=https://mwouts.github.io/itables/troubleshooting.html>help</a>?)</td></tr></tbody></table>\n",
       "<link rel=\"stylesheet\" type=\"text/css\" href=\"https://cdn.datatables.net/1.13.1/css/jquery.dataTables.min.css\">\n",
       "<script type=\"module\">\n",
       "    // Import jquery and DataTable\n",
       "    import 'https://code.jquery.com/jquery-3.6.0.min.js';\n",
       "    import dt from 'https://cdn.datatables.net/1.12.1/js/jquery.dataTables.mjs';\n",
       "    dt($);\n",
       "\n",
       "    // Define the table data\n",
       "    const data = [[\"Severe acute respiratory syndrome-related coronavirus\", 1.0, 0.02272, 0.02272], [\"Simbu orthobunyavirus\", 0.0, 0.59166, 0.59166], [\"Schmallenberg orthobunyavirus\", 0.0, 0.30536, 0.30536], [\"Choristoneura fumiferana granulovirus\", 0.0, 0.06523, 0.06523], [\"Menderavirus mendera\", 0.0, 0.00467, 0.00467], [\"Polybotosvirus Atuph07\", 0.0, 0.00467, 0.00467], [\"BeAn 58058 virus\", 0.0, 0.00202, 0.00202], [\"Tigrvirus phiE094\", 0.0, 0.00165, 0.00165], [\"Oxbow orthohantavirus\", 0.0, 0.00101, 0.00101], [\"Pseudomonas phage PPpW-3\", 0.0, 0.00101, 0.00101]];\n",
       "\n",
       "    // Define the dt_args\n",
       "    let dt_args = {\"dom\": \"ftir\", \"order\": []};\n",
       "    dt_args[\"data\"] = data;\n",
       "\n",
       "    $(document).ready(function () {\n",
       "        \n",
       "        $('#ff66f10c-e0db-40d1-bba2-728d4edd069f').DataTable(dt_args);\n",
       "    });\n",
       "</script>\n",
       "</div>\n"
      ],
      "text/plain": [
       "<IPython.core.display.HTML object>"
      ]
     },
     "metadata": {},
     "output_type": "display_data"
    }
   ],
   "source": [
    "if len(bracken_df) > 10 :\n",
    "    show(bracken_df, dom='lfrtip')\n",
    "else:\n",
    "    show(bracken_df, dom='ftir')"
   ]
  }
 ],
 "metadata": {
  "kernelspec": {
   "display_name": "Python 3",
   "language": "python",
   "name": "python3"
  },
  "language_info": {
   "codemirror_mode": {
    "name": "ipython",
    "version": 3
   },
   "file_extension": ".py",
   "mimetype": "text/x-python",
   "name": "python",
   "nbconvert_exporter": "python",
   "pygments_lexer": "ipython3",
   "version": "3.11.0 | packaged by conda-forge | (main, Jan 14 2023, 12:27:40) [GCC 11.3.0]"
  },
  "orig_nbformat": 4,
  "vscode": {
   "interpreter": {
    "hash": "415fc2c69e6c86251f769b44051bab9e0587a4321cda7b512c8e3415c75e2680"
   }
  }
 },
 "nbformat": 4,
 "nbformat_minor": 2
}
